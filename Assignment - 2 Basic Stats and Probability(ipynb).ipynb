{
  "cells": [
    {
      "cell_type": "code",
      "execution_count": 3,
      "id": "1a88f3cf",
      "metadata": {
        "id": "1a88f3cf"
      },
      "outputs": [],
      "source": [
        "# Preliminaries\n",
        "import pandas as pd\n",
        "pd.set_option('display.max_columns', None)\n",
        "pd.set_option('display.max_rows', None)"
      ]
    },
    {
      "cell_type": "markdown",
      "id": "ba46b636",
      "metadata": {
        "id": "ba46b636"
      },
      "source": [
        "***"
      ]
    },
    {
      "cell_type": "markdown",
      "id": "5cffa7a1",
      "metadata": {
        "id": "5cffa7a1"
      },
      "source": [
        "# Question 1"
      ]
    },
    {
      "cell_type": "markdown",
      "id": "aa40fab8",
      "metadata": {
        "id": "aa40fab8"
      },
      "source": [
        "## Data Set"
      ]
    },
    {
      "cell_type": "markdown",
      "id": "a616b7b9",
      "metadata": {
        "id": "a616b7b9"
      },
      "source": [
        "The file `student_score.csv` contains student score data from two schools: `MS` and `GP`. Each student from these schools is given a unique alphanumeric `student_id`. The `address` column either reads `U` or `R` to denote whether the student lives in an urban or a rural area. A count of absent days for each student is recorded under the column `absences`. Entries under columns `subject_1`, `subject_2` and `subject_3` denote the marks scored in three different subjects."
      ]
    },
    {
      "cell_type": "code",
      "execution_count": 4,
      "id": "dc8bbee8",
      "metadata": {
        "id": "dc8bbee8"
      },
      "outputs": [],
      "source": [
        "# Read the CSV file into a Pandas DataFrame\n",
        "# https://pandas.pydata.org/docs/reference/api/pandas.read_csv.html\n",
        "student_scores = pd.read_csv(\"student_scores.csv\", index_col=False)"
      ]
    },
    {
      "cell_type": "code",
      "execution_count": 5,
      "id": "180cf1e7",
      "metadata": {
        "colab": {
          "base_uri": "https://localhost:8080/",
          "height": 143
        },
        "id": "180cf1e7",
        "outputId": "35a481dd-0bbb-469d-d10e-f5b24877f6a2"
      },
      "outputs": [
        {
          "output_type": "execute_result",
          "data": {
            "text/plain": [
              "    school student_id sex  age address  absences  subject_1  subject_2  \\\n",
              "42      GP      STD43   M   15       U         0         14         15   \n",
              "643     MS     STD221   F   18       R         4          7          9   \n",
              "71      GP      STD72   M   15       U         0         11          9   \n",
              "\n",
              "     subject_3  \n",
              "42          15  \n",
              "643         10  \n",
              "71          10  "
            ],
            "text/html": [
              "\n",
              "  <div id=\"df-ac175561-3ae7-410b-a45f-81e7a7782ad9\" class=\"colab-df-container\">\n",
              "    <div>\n",
              "<style scoped>\n",
              "    .dataframe tbody tr th:only-of-type {\n",
              "        vertical-align: middle;\n",
              "    }\n",
              "\n",
              "    .dataframe tbody tr th {\n",
              "        vertical-align: top;\n",
              "    }\n",
              "\n",
              "    .dataframe thead th {\n",
              "        text-align: right;\n",
              "    }\n",
              "</style>\n",
              "<table border=\"1\" class=\"dataframe\">\n",
              "  <thead>\n",
              "    <tr style=\"text-align: right;\">\n",
              "      <th></th>\n",
              "      <th>school</th>\n",
              "      <th>student_id</th>\n",
              "      <th>sex</th>\n",
              "      <th>age</th>\n",
              "      <th>address</th>\n",
              "      <th>absences</th>\n",
              "      <th>subject_1</th>\n",
              "      <th>subject_2</th>\n",
              "      <th>subject_3</th>\n",
              "    </tr>\n",
              "  </thead>\n",
              "  <tbody>\n",
              "    <tr>\n",
              "      <th>42</th>\n",
              "      <td>GP</td>\n",
              "      <td>STD43</td>\n",
              "      <td>M</td>\n",
              "      <td>15</td>\n",
              "      <td>U</td>\n",
              "      <td>0</td>\n",
              "      <td>14</td>\n",
              "      <td>15</td>\n",
              "      <td>15</td>\n",
              "    </tr>\n",
              "    <tr>\n",
              "      <th>643</th>\n",
              "      <td>MS</td>\n",
              "      <td>STD221</td>\n",
              "      <td>F</td>\n",
              "      <td>18</td>\n",
              "      <td>R</td>\n",
              "      <td>4</td>\n",
              "      <td>7</td>\n",
              "      <td>9</td>\n",
              "      <td>10</td>\n",
              "    </tr>\n",
              "    <tr>\n",
              "      <th>71</th>\n",
              "      <td>GP</td>\n",
              "      <td>STD72</td>\n",
              "      <td>M</td>\n",
              "      <td>15</td>\n",
              "      <td>U</td>\n",
              "      <td>0</td>\n",
              "      <td>11</td>\n",
              "      <td>9</td>\n",
              "      <td>10</td>\n",
              "    </tr>\n",
              "  </tbody>\n",
              "</table>\n",
              "</div>\n",
              "    <div class=\"colab-df-buttons\">\n",
              "\n",
              "  <div class=\"colab-df-container\">\n",
              "    <button class=\"colab-df-convert\" onclick=\"convertToInteractive('df-ac175561-3ae7-410b-a45f-81e7a7782ad9')\"\n",
              "            title=\"Convert this dataframe to an interactive table.\"\n",
              "            style=\"display:none;\">\n",
              "\n",
              "  <svg xmlns=\"http://www.w3.org/2000/svg\" height=\"24px\" viewBox=\"0 -960 960 960\">\n",
              "    <path d=\"M120-120v-720h720v720H120Zm60-500h600v-160H180v160Zm220 220h160v-160H400v160Zm0 220h160v-160H400v160ZM180-400h160v-160H180v160Zm440 0h160v-160H620v160ZM180-180h160v-160H180v160Zm440 0h160v-160H620v160Z\"/>\n",
              "  </svg>\n",
              "    </button>\n",
              "\n",
              "  <style>\n",
              "    .colab-df-container {\n",
              "      display:flex;\n",
              "      gap: 12px;\n",
              "    }\n",
              "\n",
              "    .colab-df-convert {\n",
              "      background-color: #E8F0FE;\n",
              "      border: none;\n",
              "      border-radius: 50%;\n",
              "      cursor: pointer;\n",
              "      display: none;\n",
              "      fill: #1967D2;\n",
              "      height: 32px;\n",
              "      padding: 0 0 0 0;\n",
              "      width: 32px;\n",
              "    }\n",
              "\n",
              "    .colab-df-convert:hover {\n",
              "      background-color: #E2EBFA;\n",
              "      box-shadow: 0px 1px 2px rgba(60, 64, 67, 0.3), 0px 1px 3px 1px rgba(60, 64, 67, 0.15);\n",
              "      fill: #174EA6;\n",
              "    }\n",
              "\n",
              "    .colab-df-buttons div {\n",
              "      margin-bottom: 4px;\n",
              "    }\n",
              "\n",
              "    [theme=dark] .colab-df-convert {\n",
              "      background-color: #3B4455;\n",
              "      fill: #D2E3FC;\n",
              "    }\n",
              "\n",
              "    [theme=dark] .colab-df-convert:hover {\n",
              "      background-color: #434B5C;\n",
              "      box-shadow: 0px 1px 3px 1px rgba(0, 0, 0, 0.15);\n",
              "      filter: drop-shadow(0px 1px 2px rgba(0, 0, 0, 0.3));\n",
              "      fill: #FFFFFF;\n",
              "    }\n",
              "  </style>\n",
              "\n",
              "    <script>\n",
              "      const buttonEl =\n",
              "        document.querySelector('#df-ac175561-3ae7-410b-a45f-81e7a7782ad9 button.colab-df-convert');\n",
              "      buttonEl.style.display =\n",
              "        google.colab.kernel.accessAllowed ? 'block' : 'none';\n",
              "\n",
              "      async function convertToInteractive(key) {\n",
              "        const element = document.querySelector('#df-ac175561-3ae7-410b-a45f-81e7a7782ad9');\n",
              "        const dataTable =\n",
              "          await google.colab.kernel.invokeFunction('convertToInteractive',\n",
              "                                                    [key], {});\n",
              "        if (!dataTable) return;\n",
              "\n",
              "        const docLinkHtml = 'Like what you see? Visit the ' +\n",
              "          '<a target=\"_blank\" href=https://colab.research.google.com/notebooks/data_table.ipynb>data table notebook</a>'\n",
              "          + ' to learn more about interactive tables.';\n",
              "        element.innerHTML = '';\n",
              "        dataTable['output_type'] = 'display_data';\n",
              "        await google.colab.output.renderOutput(dataTable, element);\n",
              "        const docLink = document.createElement('div');\n",
              "        docLink.innerHTML = docLinkHtml;\n",
              "        element.appendChild(docLink);\n",
              "      }\n",
              "    </script>\n",
              "  </div>\n",
              "\n",
              "\n",
              "<div id=\"df-fe8c46af-e4a5-4fc6-a095-7488405607a3\">\n",
              "  <button class=\"colab-df-quickchart\" onclick=\"quickchart('df-fe8c46af-e4a5-4fc6-a095-7488405607a3')\"\n",
              "            title=\"Suggest charts\"\n",
              "            style=\"display:none;\">\n",
              "\n",
              "<svg xmlns=\"http://www.w3.org/2000/svg\" height=\"24px\"viewBox=\"0 0 24 24\"\n",
              "     width=\"24px\">\n",
              "    <g>\n",
              "        <path d=\"M19 3H5c-1.1 0-2 .9-2 2v14c0 1.1.9 2 2 2h14c1.1 0 2-.9 2-2V5c0-1.1-.9-2-2-2zM9 17H7v-7h2v7zm4 0h-2V7h2v10zm4 0h-2v-4h2v4z\"/>\n",
              "    </g>\n",
              "</svg>\n",
              "  </button>\n",
              "\n",
              "<style>\n",
              "  .colab-df-quickchart {\n",
              "      --bg-color: #E8F0FE;\n",
              "      --fill-color: #1967D2;\n",
              "      --hover-bg-color: #E2EBFA;\n",
              "      --hover-fill-color: #174EA6;\n",
              "      --disabled-fill-color: #AAA;\n",
              "      --disabled-bg-color: #DDD;\n",
              "  }\n",
              "\n",
              "  [theme=dark] .colab-df-quickchart {\n",
              "      --bg-color: #3B4455;\n",
              "      --fill-color: #D2E3FC;\n",
              "      --hover-bg-color: #434B5C;\n",
              "      --hover-fill-color: #FFFFFF;\n",
              "      --disabled-bg-color: #3B4455;\n",
              "      --disabled-fill-color: #666;\n",
              "  }\n",
              "\n",
              "  .colab-df-quickchart {\n",
              "    background-color: var(--bg-color);\n",
              "    border: none;\n",
              "    border-radius: 50%;\n",
              "    cursor: pointer;\n",
              "    display: none;\n",
              "    fill: var(--fill-color);\n",
              "    height: 32px;\n",
              "    padding: 0;\n",
              "    width: 32px;\n",
              "  }\n",
              "\n",
              "  .colab-df-quickchart:hover {\n",
              "    background-color: var(--hover-bg-color);\n",
              "    box-shadow: 0 1px 2px rgba(60, 64, 67, 0.3), 0 1px 3px 1px rgba(60, 64, 67, 0.15);\n",
              "    fill: var(--button-hover-fill-color);\n",
              "  }\n",
              "\n",
              "  .colab-df-quickchart-complete:disabled,\n",
              "  .colab-df-quickchart-complete:disabled:hover {\n",
              "    background-color: var(--disabled-bg-color);\n",
              "    fill: var(--disabled-fill-color);\n",
              "    box-shadow: none;\n",
              "  }\n",
              "\n",
              "  .colab-df-spinner {\n",
              "    border: 2px solid var(--fill-color);\n",
              "    border-color: transparent;\n",
              "    border-bottom-color: var(--fill-color);\n",
              "    animation:\n",
              "      spin 1s steps(1) infinite;\n",
              "  }\n",
              "\n",
              "  @keyframes spin {\n",
              "    0% {\n",
              "      border-color: transparent;\n",
              "      border-bottom-color: var(--fill-color);\n",
              "      border-left-color: var(--fill-color);\n",
              "    }\n",
              "    20% {\n",
              "      border-color: transparent;\n",
              "      border-left-color: var(--fill-color);\n",
              "      border-top-color: var(--fill-color);\n",
              "    }\n",
              "    30% {\n",
              "      border-color: transparent;\n",
              "      border-left-color: var(--fill-color);\n",
              "      border-top-color: var(--fill-color);\n",
              "      border-right-color: var(--fill-color);\n",
              "    }\n",
              "    40% {\n",
              "      border-color: transparent;\n",
              "      border-right-color: var(--fill-color);\n",
              "      border-top-color: var(--fill-color);\n",
              "    }\n",
              "    60% {\n",
              "      border-color: transparent;\n",
              "      border-right-color: var(--fill-color);\n",
              "    }\n",
              "    80% {\n",
              "      border-color: transparent;\n",
              "      border-right-color: var(--fill-color);\n",
              "      border-bottom-color: var(--fill-color);\n",
              "    }\n",
              "    90% {\n",
              "      border-color: transparent;\n",
              "      border-bottom-color: var(--fill-color);\n",
              "    }\n",
              "  }\n",
              "</style>\n",
              "\n",
              "  <script>\n",
              "    async function quickchart(key) {\n",
              "      const quickchartButtonEl =\n",
              "        document.querySelector('#' + key + ' button');\n",
              "      quickchartButtonEl.disabled = true;  // To prevent multiple clicks.\n",
              "      quickchartButtonEl.classList.add('colab-df-spinner');\n",
              "      try {\n",
              "        const charts = await google.colab.kernel.invokeFunction(\n",
              "            'suggestCharts', [key], {});\n",
              "      } catch (error) {\n",
              "        console.error('Error during call to suggestCharts:', error);\n",
              "      }\n",
              "      quickchartButtonEl.classList.remove('colab-df-spinner');\n",
              "      quickchartButtonEl.classList.add('colab-df-quickchart-complete');\n",
              "    }\n",
              "    (() => {\n",
              "      let quickchartButtonEl =\n",
              "        document.querySelector('#df-fe8c46af-e4a5-4fc6-a095-7488405607a3 button');\n",
              "      quickchartButtonEl.style.display =\n",
              "        google.colab.kernel.accessAllowed ? 'block' : 'none';\n",
              "    })();\n",
              "  </script>\n",
              "</div>\n",
              "\n",
              "    </div>\n",
              "  </div>\n"
            ],
            "application/vnd.google.colaboratory.intrinsic+json": {
              "type": "dataframe",
              "summary": "{\n  \"name\": \"student_scores\",\n  \"rows\": 3,\n  \"fields\": [\n    {\n      \"column\": \"school\",\n      \"properties\": {\n        \"dtype\": \"string\",\n        \"num_unique_values\": 2,\n        \"samples\": [\n          \"MS\",\n          \"GP\"\n        ],\n        \"semantic_type\": \"\",\n        \"description\": \"\"\n      }\n    },\n    {\n      \"column\": \"student_id\",\n      \"properties\": {\n        \"dtype\": \"string\",\n        \"num_unique_values\": 3,\n        \"samples\": [\n          \"STD43\",\n          \"STD221\"\n        ],\n        \"semantic_type\": \"\",\n        \"description\": \"\"\n      }\n    },\n    {\n      \"column\": \"sex\",\n      \"properties\": {\n        \"dtype\": \"string\",\n        \"num_unique_values\": 2,\n        \"samples\": [\n          \"F\",\n          \"M\"\n        ],\n        \"semantic_type\": \"\",\n        \"description\": \"\"\n      }\n    },\n    {\n      \"column\": \"age\",\n      \"properties\": {\n        \"dtype\": \"number\",\n        \"std\": 1,\n        \"min\": 15,\n        \"max\": 18,\n        \"num_unique_values\": 2,\n        \"samples\": [\n          18,\n          15\n        ],\n        \"semantic_type\": \"\",\n        \"description\": \"\"\n      }\n    },\n    {\n      \"column\": \"address\",\n      \"properties\": {\n        \"dtype\": \"string\",\n        \"num_unique_values\": 2,\n        \"samples\": [\n          \"R\",\n          \"U\"\n        ],\n        \"semantic_type\": \"\",\n        \"description\": \"\"\n      }\n    },\n    {\n      \"column\": \"absences\",\n      \"properties\": {\n        \"dtype\": \"number\",\n        \"std\": 2,\n        \"min\": 0,\n        \"max\": 4,\n        \"num_unique_values\": 2,\n        \"samples\": [\n          4,\n          0\n        ],\n        \"semantic_type\": \"\",\n        \"description\": \"\"\n      }\n    },\n    {\n      \"column\": \"subject_1\",\n      \"properties\": {\n        \"dtype\": \"number\",\n        \"std\": 3,\n        \"min\": 7,\n        \"max\": 14,\n        \"num_unique_values\": 3,\n        \"samples\": [\n          14,\n          7\n        ],\n        \"semantic_type\": \"\",\n        \"description\": \"\"\n      }\n    },\n    {\n      \"column\": \"subject_2\",\n      \"properties\": {\n        \"dtype\": \"number\",\n        \"std\": 3,\n        \"min\": 9,\n        \"max\": 15,\n        \"num_unique_values\": 2,\n        \"samples\": [\n          9,\n          15\n        ],\n        \"semantic_type\": \"\",\n        \"description\": \"\"\n      }\n    },\n    {\n      \"column\": \"subject_3\",\n      \"properties\": {\n        \"dtype\": \"number\",\n        \"std\": 2,\n        \"min\": 10,\n        \"max\": 15,\n        \"num_unique_values\": 2,\n        \"samples\": [\n          10,\n          15\n        ],\n        \"semantic_type\": \"\",\n        \"description\": \"\"\n      }\n    }\n  ]\n}"
            }
          },
          "metadata": {},
          "execution_count": 5
        }
      ],
      "source": [
        "# Display the contents of three randomly sampled rows\n",
        "student_scores.sample(3)"
      ]
    },
    {
      "cell_type": "code",
      "execution_count": 6,
      "id": "6adb460d",
      "metadata": {
        "colab": {
          "base_uri": "https://localhost:8080/"
        },
        "id": "6adb460d",
        "outputId": "46c5678a-d47e-4de0-a948-2d8748bf6a70"
      },
      "outputs": [
        {
          "output_type": "execute_result",
          "data": {
            "text/plain": [
              "school        object\n",
              "student_id    object\n",
              "sex           object\n",
              "age            int64\n",
              "address       object\n",
              "absences       int64\n",
              "subject_1      int64\n",
              "subject_2      int64\n",
              "subject_3      int64\n",
              "dtype: object"
            ]
          },
          "metadata": {},
          "execution_count": 6
        }
      ],
      "source": [
        "# Display the type of data in each column\n",
        "# https://pandas.pydata.org/docs/reference/api/pandas.DataFrame.dtypes.html\n",
        "student_scores.dtypes"
      ]
    },
    {
      "cell_type": "code",
      "execution_count": 7,
      "id": "37ce9d81",
      "metadata": {
        "colab": {
          "base_uri": "https://localhost:8080/"
        },
        "id": "37ce9d81",
        "outputId": "cc035b45-3cbf-4d47-e731-6f54a92774fe"
      },
      "outputs": [
        {
          "output_type": "execute_result",
          "data": {
            "text/plain": [
              "array(['GP', 'MS'], dtype=object)"
            ]
          },
          "metadata": {},
          "execution_count": 7
        }
      ],
      "source": [
        "# Display just the unique entries under column `school`\n",
        "student_scores['school'].unique()"
      ]
    },
    {
      "cell_type": "markdown",
      "id": "dde112cc",
      "metadata": {
        "id": "dde112cc"
      },
      "source": [
        "***"
      ]
    },
    {
      "cell_type": "markdown",
      "id": "fcc8bed3",
      "metadata": {
        "id": "fcc8bed3"
      },
      "source": [
        "### (a)\n",
        "Consider a random experiement of randomly selecting one student from school `GP`. Compute the probability that the student is female (`F`)."
      ]
    },
    {
      "cell_type": "code",
      "execution_count": 10,
      "id": "4ba76d56",
      "metadata": {
        "colab": {
          "base_uri": "https://localhost:8080/"
        },
        "id": "4ba76d56",
        "outputId": "b70a217f-8f8c-4927-a661-67b6dd0d3a46"
      },
      "outputs": [
        {
          "output_type": "stream",
          "name": "stdout",
          "text": [
            "Probability of selecting a female student from school GP: 0.5602836879432624\n"
          ]
        }
      ],
      "source": [
        "school_GP=student_scores[student_scores['school']=='GP']\n",
        "total_students_GP=len(school_GP)\n",
        "female_students_GP=len(school_GP[school_GP['sex']=='F'])\n",
        "probability_female_GP=female_students_GP/total_students_GP\n",
        "\n",
        "print(\"Probability of selecting a female student from school GP:\", probability_female_GP)\n"
      ]
    },
    {
      "cell_type": "markdown",
      "id": "3acd5071",
      "metadata": {
        "id": "3acd5071"
      },
      "source": [
        "### (b)\n",
        "Consider a random experiement of randomly selecting one student from each school. Compute the probability that neither student scored more than 12 points in `subject_1`."
      ]
    },
    {
      "cell_type": "code",
      "execution_count": 11,
      "id": "3ede0f7a",
      "metadata": {
        "colab": {
          "base_uri": "https://localhost:8080/"
        },
        "id": "3ede0f7a",
        "outputId": "d5bd3f2a-b66d-4a88-9a3f-0da3f5460c0b"
      },
      "outputs": [
        {
          "output_type": "stream",
          "name": "stdout",
          "text": [
            "Probability that neither student scored more than 12 points in subject_1: 0.4560346450762568\n"
          ]
        }
      ],
      "source": [
        "school_MS=student_scores[student_scores['school']=='MS']\n",
        "#already read school_GP in before cell\n",
        "\n",
        "students_MS_less_than_12=len(school_MS[school_MS['subject_1']<=12])\n",
        "students_GP_less_than_12=len(school_GP[school_GP['subject_1']<=12])\n",
        "\n",
        "probability_neither_less_than_12=(students_MS_less_than_12/len(school_MS))*(students_GP_less_than_12/len(school_GP))\n",
        "print(\"Probability that neither student scored more than 12 points in subject_1:\",probability_neither_less_than_12)"
      ]
    },
    {
      "cell_type": "markdown",
      "id": "62913ffb",
      "metadata": {
        "id": "62913ffb"
      },
      "source": [
        "### (c)\n",
        "Let the random variable $X$ denote the marks received by a randomly selected student in `subject_3`. Is $X$ a discrete or a continuous random variable? Plot the pmf of $X$. (Hint: Use the histogram method from the `matplotlib` module.) What can you say about $X$ by looking at its distrubution? Does $X$ appear to follow any known distribution?"
      ]
    },
    {
      "cell_type": "code",
      "execution_count": 13,
      "id": "ba6b5715",
      "metadata": {
        "colab": {
          "base_uri": "https://localhost:8080/",
          "height": 472
        },
        "id": "ba6b5715",
        "outputId": "73011670-5289-4350-aec4-64ad342d08a7"
      },
      "outputs": [
        {
          "output_type": "display_data",
          "data": {
            "text/plain": [
              "<Figure size 640x480 with 1 Axes>"
            ],
            "image/png": "[encoded data removed]"
          },
          "metadata": {}
        }
      ],
      "source": [
        "import matplotlib.pyplot as plt\n",
        "marks_subject_3=student_scores['subject_3']\n",
        "\n",
        "# Plot the histogram\n",
        "plt.hist(marks_subject_3,bins=range(0,max(marks_subject_3)+1),density=True,alpha=0.75)\n",
        "plt.xlabel('Marks in Subject_3')\n",
        "plt.ylabel('Probability')\n",
        "plt.title('PMF of Marks in Subject_3')\n",
        "plt.grid(True)\n",
        "plt.show()\n"
      ]
    },
    {
      "cell_type": "markdown",
      "source": [
        "The graph follows Central Tendency\n",
        "\n",
        "Central Tendency: The peak of the graph represents the mode of the distribution, indicating the most common score achieved by students in subject_3. The data is clustered in center.\n"
      ],
      "metadata": {
        "id": "eer2N7T8vG7s"
      },
      "id": "eer2N7T8vG7s"
    },
    {
      "cell_type": "markdown",
      "id": "e7da8bd7",
      "metadata": {
        "id": "e7da8bd7"
      },
      "source": [
        "### (d)\n",
        "Let the random variable $Y$ denote the `subject_3` marks received by a randomly selected student of school `MS`. We can write $Y$ as\n",
        "\n",
        "$$\n",
        "X|S=\\text{\"MS\"}\n",
        "$$\n",
        "where the random variable $S$ denotes the school of a randomly selected student.\n",
        "\n",
        "Is $Y$ a discrete or a continuous random variable? Plot the pmf of $Y$. What can you say about $Y$ by looking at its distrubution? How do the distributions of $X$ and $Y$ compare?"
      ]
    },
    {
      "cell_type": "code",
      "execution_count": 15,
      "id": "1f90219d",
      "metadata": {
        "colab": {
          "base_uri": "https://localhost:8080/",
          "height": 472
        },
        "id": "1f90219d",
        "outputId": "192554de-d7aa-433b-c6d1-3d485b52733d"
      },
      "outputs": [
        {
          "output_type": "display_data",
          "data": {
            "text/plain": [
              "<Figure size 640x480 with 1 Axes>"
            ],
            "image/png": "[encoded data removed]"
          },
          "metadata": {}
        }
      ],
      "source": [
        "import matplotlib.pyplot as plt\n",
        "marks_subject_3_MS = school_MS['subject_3']\n",
        "# Plot the histogram\n",
        "plt.hist(marks_subject_3_MS, bins=range(0, max(marks_subject_3_MS) + 1), density=True, alpha=0.75)\n",
        "plt.xlabel('Marks in Subject_3 for School MS')\n",
        "plt.ylabel('Probability')\n",
        "plt.title('PMF of Marks in Subject_3 for School MS')\n",
        "plt.grid(True)\n",
        "plt.show()\n"
      ]
    },
    {
      "cell_type": "markdown",
      "source": [
        "Y are having Discrete Values.The performance of students from school MS in subject_3 follows a similar pattern to that of students from both schools combined."
      ],
      "metadata": {
        "id": "sJwCFTm0wgq8"
      },
      "id": "sJwCFTm0wgq8"
    },
    {
      "cell_type": "markdown",
      "id": "4fd2b5eb",
      "metadata": {
        "id": "4fd2b5eb"
      },
      "source": [
        "### (e)\n",
        "Compute the mean, variance, median and mode of $X$ and $Y$. Can you comment of the skewness of the distributions of $X$ and $Y$ from these values?"
      ]
    },
    {
      "cell_type": "code",
      "execution_count": 16,
      "id": "2cce2956",
      "metadata": {
        "colab": {
          "base_uri": "https://localhost:8080/"
        },
        "id": "2cce2956",
        "outputId": "d66fd6e5-345d-4906-ab15-00def1edb707"
      },
      "outputs": [
        {
          "output_type": "stream",
          "name": "stdout",
          "text": [
            "For X (all students in subject_3):\n",
            "Mean: 11.906009244992296\n",
            "Variance: 10.421057879729629\n",
            "Median: 12.0\n",
            "Mode: 11\n",
            "\n",
            "For Y (students from school MS in subject_3):\n",
            "Mean: 10.650442477876107\n",
            "Variance: 14.634446706868196\n",
            "Median: 11.0\n",
            "Mode: 10\n"
          ]
        }
      ],
      "source": [
        "import numpy as np\n",
        "\n",
        "# Calculate mean, variance, median, and mode for X\n",
        "mean_X=np.mean(marks_subject_3)\n",
        "variance_X=np.var(marks_subject_3)\n",
        "median_X=np.median(marks_subject_3)\n",
        "mode_X=np.argmax(np.bincount(marks_subject_3))\n",
        "\n",
        "# Calculate mean, variance, median, and mode for Y\n",
        "mean_Y=np.mean(marks_subject_3_MS)\n",
        "variance_Y=np.var(marks_subject_3_MS)\n",
        "median_Y=np.median(marks_subject_3_MS)\n",
        "mode_Y=np.argmax(np.bincount(marks_subject_3_MS))\n",
        "\n",
        "print(\"For X (all students in subject_3):\")\n",
        "print(\"Mean:\", mean_X)\n",
        "print(\"Variance:\", variance_X)\n",
        "print(\"Median:\", median_X)\n",
        "print(\"Mode:\", mode_X)\n",
        "\n",
        "print(\"\\nFor Y (students from school MS in subject_3):\")\n",
        "print(\"Mean:\", mean_Y)\n",
        "print(\"Variance:\", variance_Y)\n",
        "print(\"Median:\", median_Y)\n",
        "print(\"Mode:\", mode_Y)\n"
      ]
    },
    {
      "cell_type": "markdown",
      "source": [
        "-In both distributions, the mean is less than the median, indicating that the distributions are left-skewed (negative skewness).\n",
        "For distribution X (all students), the mode is 11, which is less than both the mean and median, further supporting the left-skewed nature.\n",
        "\n",
        "-Similarly, for distribution Y (students from school MS), the mode is 10, which is less than both the mean and median, indicating the left-skewed tendency.\n",
        "\n",
        "-The variance for distribution X (10.42) is lower than that for distribution Y (14.63), suggesting that the scores are more tightly clustered around the mean for X compared to Y."
      ],
      "metadata": {
        "id": "J3HTHjWIx9Jp"
      },
      "id": "J3HTHjWIx9Jp"
    },
    {
      "cell_type": "markdown",
      "id": "2c6d07c5",
      "metadata": {
        "id": "2c6d07c5"
      },
      "source": [
        "# Question 2"
      ]
    },
    {
      "cell_type": "markdown",
      "id": "2a8649a7",
      "metadata": {
        "id": "2a8649a7"
      },
      "source": [
        "Derive mean and variance of binomial distribution. Write it down in following markdown cells (it's a good and useful exercise to learn writing mathematical texts in jupyter notebook),\n",
        "\n",
        "Hint : Binomial random variable is sum of multiple Bernoulli random variable. Use formulas related to expected value and variance of sum of random variables."
      ]
    },
    {
      "cell_type": "code",
      "source": [
        "#Mean of Binomial Distribution"
      ],
      "metadata": {
        "id": "pNlN1Pk20tik"
      },
      "id": "pNlN1Pk20tik",
      "execution_count": null,
      "outputs": []
    },
    {
      "cell_type": "markdown",
      "source": [
        "***Mean of a Binomial Distribution***:\n",
        "\n",
        "The mean of a binomial distribution with parameter **n**\n",
        " (number of trials) and **p** (probability of success on each trial) can be derived as follows:\n",
        "\n",
        "A binomial random variable **X** is defined as the sum of **n** independent Bernoulli random variables, each with a probability of success **p** . The expected value (mean) of a single Bernoulli random variable is **p** .\n",
        "\n",
        "Therefore, the mean of **X** is the sum of the means of the individual Bernoulli random variables:\n",
        "\n",
        "> $$\\mu=np$$\n",
        "\n"
      ],
      "metadata": {
        "id": "4OJ-XYiD0F3H"
      },
      "id": "4OJ-XYiD0F3H"
    },
    {
      "cell_type": "code",
      "execution_count": null,
      "id": "d1104e83",
      "metadata": {
        "id": "d1104e83"
      },
      "outputs": [],
      "source": [
        "#Variance of Binomial Distribution"
      ]
    },
    {
      "cell_type": "markdown",
      "source": [
        "***Variance of a Binomial Distribution:***\n",
        "\n",
        "The variance ($\\sigma^2$)\n",
        "of a binomial distribution with parameters n and p can be derived as follows:\n",
        "\n",
        "The variance of a single Bernoulli random variable is **p(1-p)** .\n",
        "\n",
        "Since the n Bernoulli trials are independent, the variance of the sum of n such variables is the sum of their individual variances:\n",
        "\n",
        "\n",
        "> $$\\sigma^2 = np(1-p)$$\n",
        "\n"
      ],
      "metadata": {
        "id": "VpbOznNO04j1"
      },
      "id": "VpbOznNO04j1"
    },
    {
      "cell_type": "markdown",
      "id": "cb9da906",
      "metadata": {
        "id": "cb9da906"
      },
      "source": [
        "# Question 3"
      ]
    },
    {
      "cell_type": "markdown",
      "id": "01b563b2",
      "metadata": {
        "id": "01b563b2"
      },
      "source": [
        "__(a)__ Can two events A and B (with respective non-zero probabilities i.e. $P(A) \\neq 0$ and $P(B) \\neq 0$) with no intersection be independent of each other ? If yes, elaborate the condition under which it is possible. Also can you intuitively justify the correctness of your answer ?"
      ]
    },
    {
      "cell_type": "markdown",
      "source": [
        "\n",
        "##Understanding Independence of Events:\n",
        "\n",
        "\n",
        "Two events $A$ and $B$ with non-zero probabilities can be independent of each other even if they have no intersection.\n",
        "\n",
        "For two events $A$ and $B$ to be independent, the condition is that the probability of the intersection of the two events $P(A \\cap B)$ should be equal to the product of their individual probabilities, $P(A) \\times P(B)$.\n",
        "\n",
        "Now, if $P(A)$ and $P(B)$ are both non-zero and $A$ and $B$ have no intersection ($A \\cap B = \\emptyset$), then $P(A \\cap B)$ is equal to 0. However, if $P(A) \\times P(B) = 0$, then the condition for independence holds, as $0 = 0$.\n",
        "\n",
        "Intuitively, if $A$ and $B$ are two events with non-zero probabilities but no intersection, it means that the occurrence of one event does not influence the occurrence of the other event. In this case, even though $P(A \\cap B) = 0$, the events can still be independent as the probability of one event happening does not affect the probability of the other event happening.\n"
      ],
      "metadata": {
        "id": "POm0JZjZ2eRU"
      },
      "id": "POm0JZjZ2eRU"
    },
    {
      "cell_type": "markdown",
      "id": "5182815b",
      "metadata": {
        "id": "5182815b"
      },
      "source": [
        "__(b)__ Assume $P(A) = 0$ and $P(B) \\neq 0$. Can you comment on the depndence/independence of event A and B ? Explain the scenarios when these events will be dependent and independent respectively."
      ]
    },
    {
      "cell_type": "markdown",
      "source": [
        "##Analysis of Event Independence\n",
        "\n",
        "\n",
        "Assume $P(A) = 0$ and $P(B) \\neq 0$. In this scenario:\n",
        "\n",
        "- **Dependence**: Event \\( B \\) can occur independently of whether event \\( A \\) occurs or not since event \\( A \\) never occurs. Therefore, event \\( A \\) has no influence on event \\( B \\), and they are independent.\n",
        "\n",
        "- **Independence**: Regardless of the probability of event \\( B \\), event \\( A \\) has zero probability of occurring. Thus, event \\( A \\) cannot influence event \\( B \\), and they are independent.\n",
        "\n"
      ],
      "metadata": {
        "id": "XhCRellY4Pyj"
      },
      "id": "XhCRellY4Pyj"
    },
    {
      "cell_type": "markdown",
      "id": "a9263fb2",
      "metadata": {
        "id": "a9263fb2"
      },
      "source": [
        "***"
      ]
    },
    {
      "cell_type": "markdown",
      "id": "4baaa212",
      "metadata": {
        "id": "4baaa212"
      },
      "source": [
        "---------- END ------------"
      ]
    }
  ],
  "metadata": {
    "kernelspec": {
      "display_name": "Python 3 (ipykernel)",
      "language": "python",
      "name": "python3"
    },
    "language_info": {
      "codemirror_mode": {
        "name": "ipython",
        "version": 3
      },
      "file_extension": ".py",
      "mimetype": "text/x-python",
      "name": "python",
      "nbconvert_exporter": "python",
      "pygments_lexer": "ipython3",
      "version": "3.7.12"
    },
    "colab": {
      "provenance": []
    }
  },
  "nbformat": 4,
  "nbformat_minor": 5
}