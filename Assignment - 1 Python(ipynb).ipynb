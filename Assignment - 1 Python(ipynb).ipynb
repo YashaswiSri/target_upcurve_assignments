{
  "cells": [
    {
      "cell_type": "markdown",
      "id": "145e5921",
      "metadata": {
        "id": "145e5921"
      },
      "source": [
        "# Session 1 - Python : Assignment"
      ]
    },
    {
      "cell_type": "markdown",
      "id": "803031bc",
      "metadata": {
        "id": "803031bc"
      },
      "source": [
        "## The Questions are given below followed by the code placeholder for each questions. Write down your solution in the provided cell."
      ]
    },
    {
      "cell_type": "markdown",
      "id": "dad4b24c",
      "metadata": {
        "id": "dad4b24c"
      },
      "source": [
        "### Question 1:\n",
        "Manhattan distance is the distance between two points in a grid calculated by only taking a vertical and/or horizontal path. Complete the function that accepts two points and returns the Manhattan Distance between the two points. The points are arrays or tuples containing the `x` and `y` coordinate in the grid. You can think of `x` as the row in the grid, and `y` as the column.\n",
        "\n",
        "### Example\n",
        "Input `[1, 1], [1, 1]` => Output `0`\n",
        "Input `[5, 4], [3, 2]` => Output `4`\n",
        "Input `[1, 1], [0, 3]` => Output `3`\n"
      ]
    },
    {
      "cell_type": "code",
      "execution_count": 6,
      "id": "896f2d3f",
      "metadata": {
        "colab": {
          "base_uri": "https://localhost:8080/",
          "height": 0
        },
        "id": "896f2d3f",
        "outputId": "ccbed000-52f4-48c7-c6e9-47dbe7f1afdc"
      },
      "outputs": [
        {
          "output_type": "stream",
          "name": "stdout",
          "text": [
            "Enter x coordinate for p1: 1\n",
            "Enter y coordinate for p1: 1\n",
            "Enter x coordinate for p2: 0\n",
            "Enter y coordinate for p2: 3\n",
            "3\n"
          ]
        }
      ],
      "source": [
        "def manhattan_distance(point1,point2):\n",
        "    x1,y1=point1\n",
        "    x2,y2=point2\n",
        "    return abs(x1-x2)+abs(y1-y2)\n",
        "\n",
        "#point1\n",
        "x1=int(input(\"Enter x coordinate for p1: \"))\n",
        "y1=int(input(\"Enter y coordinate for p1: \"))\n",
        "point1=(x1, y1)\n",
        "#point2\n",
        "x2=int(input(\"Enter x coordinate for p2: \"))\n",
        "y2=int(input(\"Enter y coordinate for p2: \"))\n",
        "point2=(x2, y2)\n",
        "\n",
        "dis=manhattan_distance(point1,point2)\n",
        "print(dis)\n",
        "\n"
      ]
    },
    {
      "cell_type": "markdown",
      "id": "f9e6af14",
      "metadata": {
        "id": "f9e6af14"
      },
      "source": [
        "### Question 2:\n",
        "A list of integers is sorted in “Wave” order if alternate items are not less than their immediate neighbors (thus the other alternate items are not greater than their immediate neighbors). Thus, the array `[4, 1, 7, 5, 6, 2, 3]` is in Wave order because `4 >= 1`, then `1 <= 7`, then `7 >= 5`, then `5 <= 6`, then `6 >= 2`, and finally `2 <= 3`. The wave-sorted lists has to begin with an element not less than the next, so `[1, 4, 5, 3]` is not sorted in Wave because `1 < 4`. Your task is to implement a function that takes a list of integers and return true if the list is in wave order.\n",
        "\n",
        "### Example\n",
        "Input `[4, 1, 7, 5, 6, 2, 3]` => Output `True`\n",
        "Input `[1, 4, 5, 3]` => Output `False`\n"
      ]
    },
    {
      "cell_type": "code",
      "execution_count": 4,
      "id": "3d256d5c",
      "metadata": {
        "colab": {
          "base_uri": "https://localhost:8080/",
          "height": 0
        },
        "id": "3d256d5c",
        "outputId": "d8f0ec71-a79d-461f-8d35-aabaf3c3c7dd"
      },
      "outputs": [
        {
          "output_type": "stream",
          "name": "stdout",
          "text": [
            "Enter list of integers separated by space: 1 4 5 3\n",
            "False\n"
          ]
        }
      ],
      "source": [
        "def is_wave_sorted(arr):\n",
        "    n=len(arr)\n",
        "    if n<2:\n",
        "        return False\n",
        "\n",
        "    for i in range(0,n-1,2):\n",
        "        if arr[i]<arr[i+1]:\n",
        "            return False\n",
        "    for i in range(1,n-1,2):\n",
        "        if arr[i]>arr[i+1]:\n",
        "            return False\n",
        "    return True\n",
        "\n",
        "arr=list(map(int,input(\"Enter list of integers separated by space: \").split()))\n",
        "if is_wave_sorted(arr):\n",
        "    print(\"True\")\n",
        "else:\n",
        "    print(\"False\")\n"
      ]
    },
    {
      "cell_type": "markdown",
      "id": "4bc5dfe1",
      "metadata": {
        "id": "4bc5dfe1"
      },
      "source": [
        "### Question 3:\n",
        "Balanced number is the number where the sum of all digits to the left of the middle digit(s) and the sum of all digits to the right of the middle digit(s) are equal.  Your task is to implement a function that takes a number and return true if it is a balanced number else return False.\n",
        "\n",
        "### Example\n",
        "Input `959` => Output `True`\n",
        "Input `27102983` => Output `False`\n"
      ]
    },
    {
      "cell_type": "code",
      "execution_count": 8,
      "id": "f79ebfbe",
      "metadata": {
        "colab": {
          "base_uri": "https://localhost:8080/",
          "height": 0
        },
        "id": "f79ebfbe",
        "outputId": "adfbc989-c03a-4209-e99f-eb14adf77df4"
      },
      "outputs": [
        {
          "output_type": "stream",
          "name": "stdout",
          "text": [
            "Enter a number: 27102983\n",
            "False\n"
          ]
        }
      ],
      "source": [
        "def is_balanced_number(number):\n",
        "    number_str=str(number)\n",
        "    length=len(number_str)\n",
        "    if length%2==1:\n",
        "        middle_index=length//2\n",
        "        number_str=number_str[:middle_index]+number_str[middle_index+1:]\n",
        "    number=int(number_str)\n",
        "\n",
        "    digits=[int(digit) for digit in str(number)]\n",
        "    split_index=len(digits)//2\n",
        "\n",
        "    left_sum=sum(digits[:split_index])\n",
        "    right_sum=sum(digits[split_index:])\n",
        "    return left_sum==right_sum\n",
        "\n",
        "num=int(input(\"Enter a number: \"))\n",
        "if is_balanced_number(num):\n",
        "    print(\"True\")\n",
        "else:\n",
        "    print(\"False\")\n"
      ]
    },
    {
      "cell_type": "markdown",
      "id": "f8938f19",
      "metadata": {
        "id": "f8938f19"
      },
      "source": [
        "### Question 4:\n",
        "You are given a sequence of valid words and a string. Test if the string is made up by one or more words from the array. Test if the string can be entirely formed by consecutively concatenating words of the dictionary.\n",
        "\n",
        "### Example\n",
        "valid_words: `[\"test\", \"ing\"]`\n",
        "Input `\"testing\"` => Output `True`\n",
        "Input `\"tester\"` => Output `False`\n"
      ]
    },
    {
      "cell_type": "code",
      "execution_count": 15,
      "id": "807849e7",
      "metadata": {
        "colab": {
          "base_uri": "https://localhost:8080/",
          "height": 0
        },
        "id": "807849e7",
        "outputId": "013834d2-b7f0-4409-84e5-0aba24331458"
      },
      "outputs": [
        {
          "output_type": "stream",
          "name": "stdout",
          "text": [
            "Enter valid words separated by space: te fd\n",
            "Enter a string to test: ted\n",
            "False\n"
          ]
        }
      ],
      "source": [
        "def is_formed_by_words(words,stri):\n",
        "    n=len(stri)\n",
        "    word_set=set(words)\n",
        "    dp=[False]*(n+1)\n",
        "    dp[0]=True\n",
        "\n",
        "    for i in range(1,n + 1):\n",
        "        for j in range(i):\n",
        "            if dp[j] and stri[j:i] in word_set:\n",
        "                dp[i] = True\n",
        "                break\n",
        "\n",
        "    return dp[n]\n",
        "\n",
        "words=input(\"Enter valid words separated by space: \").split()\n",
        "stri=input(\"Enter a string to test: \")\n",
        "\n",
        "if is_formed_by_words(words,stri):\n",
        "    print(\"True\")\n",
        "else:\n",
        "    print(\"False\")\n"
      ]
    },
    {
      "cell_type": "markdown",
      "id": "02374271",
      "metadata": {
        "id": "02374271"
      },
      "source": [
        "### Question 5:\n",
        "Write a function that accepts an array of `10` integers (between `0` and `9`), that returns a string of those numbers in the form of a phone number.\n",
        "\n",
        "### Example\n",
        "Input `[1, 2, 3, 4, 5, 6, 7, 8, 9, 0]` => Output `\"(123) 456-7890\"`\n"
      ]
    },
    {
      "source": [
        "def format_phone_number(numbers):\n",
        "    number_str=''.join(map(lambda x:f\"{x}\",numbers))\n",
        "    formatted_number=\"({}) {}-{}\".format(number_str[:3],number_str[3:6],number_str[6:])\n",
        "    return formatted_number\n",
        "\n",
        "numbers=list(map(int,input(\"Enter 10 integers separated by space: \").split()))\n",
        "phone_number=format_phone_number(numbers)\n",
        "print(phone_number)"
      ],
      "cell_type": "code",
      "metadata": {
        "colab": {
          "base_uri": "https://localhost:8080/",
          "height": 0
        },
        "id": "5rohGM-Nb2ti",
        "outputId": "db1638d2-09bb-4cce-fcd8-fb959a655765"
      },
      "id": "5rohGM-Nb2ti",
      "execution_count": 22,
      "outputs": [
        {
          "output_type": "stream",
          "name": "stdout",
          "text": [
            "Enter 10 integers separated by space: 8 3 1 7 6 5 9 4 8 9\n",
            "(831) 765-9489\n"
          ]
        }
      ]
    },
    {
      "cell_type": "markdown",
      "id": "510b6e15",
      "metadata": {
        "id": "510b6e15"
      },
      "source": [
        "### Question 6:\n",
        "Given a dictionary, find mean of all the values present.\n",
        "\n",
        "### Example\n",
        "Input `{\"Gfg\": 4, \"is\": 4, \"Best\": 4, \"for\": 4, \"Geeks\": 4}` => Output `4`\n",
        "Input `{\"Gfg\": 5, \"is\": 10, \"Best\": 15}` => Output `10`\n"
      ]
    },
    {
      "cell_type": "code",
      "execution_count": 23,
      "id": "c307173b",
      "metadata": {
        "colab": {
          "base_uri": "https://localhost:8080/",
          "height": 0
        },
        "id": "c307173b",
        "outputId": "48867e89-930b-4b5e-f50f-d0c2acf4357b"
      },
      "outputs": [
        {
          "output_type": "stream",
          "name": "stdout",
          "text": [
            "Enter a dictionary in the format {'key1': value1, 'key2': value2, ...}: {'gfg':10,'best':20}\n",
            "15.0\n"
          ]
        }
      ],
      "source": [
        "def mean_of_values(dictionary):\n",
        "    total_sum=sum(dictionary.values())\n",
        "    mean=total_sum/len(dictionary)\n",
        "    return mean\n",
        "\n",
        "input_dict=eval(input(\"Enter a dictionary in the format {'key1': value1, 'key2': value2, ...}: \"))\n",
        "mean=mean_of_values(input_dict)\n",
        "print(mean)\n"
      ]
    },
    {
      "cell_type": "markdown",
      "id": "8e068d3c",
      "metadata": {
        "id": "8e068d3c"
      },
      "source": [
        "### Question 7:\n",
        "Given a list of numbers, remove floats (numbers with decimals). Use list comprehension to solve.\n",
        "\n",
        "### Example\n",
        "Input `[1, 2.3, 5, 6, 6.89, 7.0]` => Output `[1, 5, 6]`\n"
      ]
    },
    {
      "cell_type": "code",
      "execution_count": 26,
      "id": "7d07ad1f",
      "metadata": {
        "colab": {
          "base_uri": "https://localhost:8080/",
          "height": 0
        },
        "id": "7d07ad1f",
        "outputId": "bc139774-e717-451d-c3a1-83914b14dabd"
      },
      "outputs": [
        {
          "output_type": "stream",
          "name": "stdout",
          "text": [
            "Enter a list of numbers separated by space: 1 2.3 4 5.6 7 8.9\n",
            "[1, 4, 7]\n"
          ]
        }
      ],
      "source": [
        "def remove_floats(numbers):\n",
        "    return [int(num) for num in numbers if int(num)==num]\n",
        "\n",
        "numbers=list(map(float, input(\"Enter a list of numbers separated by space: \").split()))\n",
        "result=remove_floats(numbers)\n",
        "print(result)\n"
      ]
    }
  ],
  "metadata": {
    "kernelspec": {
      "display_name": "Python 3 (ipykernel)",
      "language": "python",
      "name": "python3"
    },
    "language_info": {
      "codemirror_mode": {
        "name": "ipython",
        "version": 3
      },
      "file_extension": ".py",
      "mimetype": "text/x-python",
      "name": "python",
      "nbconvert_exporter": "python",
      "pygments_lexer": "ipython3",
      "version": "3.10.10"
    },
    "colab": {
      "provenance": []
    }
  },
  "nbformat": 4,
  "nbformat_minor": 5
}